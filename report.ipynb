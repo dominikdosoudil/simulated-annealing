{
 "cells": [
  {
   "cell_type": "markdown",
   "id": "86f38330-ba4f-4857-a701-281144e74643",
   "metadata": {},
   "source": [
    "# Úloha 2: nasazení pokročilé heuristiky\n",
    "\n",
    "Dominik Dosoudil\n",
    "\n",
    "dosoudom\n",
    "\n",
    "03.01.2023\n",
    "\n",
    "## Zadání\n",
    "\n",
    "**Řešení problému max. vážené splnitelnosti booleovské formule (MWSAT) pokročilou iterativní metodou**\n",
    "\n",
    "Popis problému: https://courses.fit.cvut.cz/NI-KOP/problems/sat.html#mwsat\n",
    "\n",
    "Problém řešte některou z pokročilých heuristik:\n",
    "\n",
    "- simulované ochlazování\n",
    "- genetický algoritmus\n",
    "\n",
    "Detail zadání: https://courses.fit.cvut.cz/NI-KOP/homeworks/files/task2.html\n",
    "\n",
    "## Implementace\n",
    "\n",
    "Pro řešení problému jsem si vybral variantu **simulované ochlazování** (SA). Heuristiku jsem implementoval v jazyce **Rust**, který je z mého pohledu pro tuto úlohu vhodný vzhledem k jeho rychlosti a jelikož je problém řešen jednovláknově, nebudou dělat překážku ani mechaniky jazyka pro práci s pamětí.\n",
    "\n",
    "Základ SA:\n",
    "\n",
    "### Inicializace teploty\n",
    "### Předběžné ukončení\n",
    "\n",
    "## White box\n",
    "\n",
    "## Black box\n",
    "\n",
    "## Závěr"
   ]
  },
  {
   "cell_type": "code",
   "execution_count": 1,
   "id": "1cd88fbd-4e84-4b0d-bcc8-b3cfd5a95fd3",
   "metadata": {},
   "outputs": [],
   "source": []
  }
 ],
 "metadata": {
  "kernelspec": {
   "display_name": "Python 3 (ipykernel)",
   "language": "python",
   "name": "python3"
  },
  "language_info": {
   "codemirror_mode": {
    "name": "ipython",
    "version": 3
   },
   "file_extension": ".py",
   "mimetype": "text/x-python",
   "name": "python",
   "nbconvert_exporter": "python",
   "pygments_lexer": "ipython3",
   "version": "3.10.6"
  }
 },
 "nbformat": 4,
 "nbformat_minor": 5
}
